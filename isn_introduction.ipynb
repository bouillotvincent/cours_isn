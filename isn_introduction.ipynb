{
 "cells": [
  {
   "cell_type": "markdown",
   "metadata": {
    "collapsed": true
   },
   "source": [
    "[Commentaire 1]: <> (Cours sous licence CC SA BY NC, Frédéric Mandon 2015)\n",
    "\n",
    "# Premiers pas avec le langage Python\n",
    "\n",
    "## Utilisation du notebook\n",
    "\n",
    "Pour cette séance, nous allons utiliser Python en mode \"notebook\". Le fichier que vous venez d'ouvrir, \"introduction à Pyhton.ipynb\", et qui est affiché ici-même, est un notebook. Faites-en une copie avec la commande ci dessus \"File>Make a Copy...\", et renommez-le en cliquant sur le titre (à côté de jupyter  TD1...), par exemple en rajoutant votre nom.\n",
    "\n",
    "On peut entrer des expressions (opérations, calculs) ou des instructions (des commandes) dans tous les champs ci-dessous qui commencent par `In[..]`. Pour entrer plusieurs lignes à la suite, on appuie sur la touche entrée.\n",
    "\n",
    "Le résultat s'obtient avec :  \n",
    "* ctrl + entrée, dans ce cas on reste dans la cellule courante;\n",
    "* majusucule + entrée, dans ce cas on passe à la cellule suivante.\n",
    "* Après exécution, le résultat d'un programme est souvent précédé de Out[ ].\n",
    "\n",
    "Il est possible qu'un notebook ne réponde plus lors de la tentative d'éxécution d'un commande ou d'un programme. C'est notamment le cas lorsqu'un programme précédent à planté. Commencez par sauver votre travail. Puis allez dans l'onglet \"Home\", et fermez le TD : cocher la case correspondante, \"shutdown\" en haut de la page. Fermez ensuite l'onglet du TD, et relancez-le à partir de \"Home\".\n",
    "\n",
    "\n",
    "## Expressions et opérations de base\n",
    "\n",
    "Testez les opérations usuelles (`+ -  *  /`) dans le champ ci-dessous. On peut ré-écrire sur ce qui est déjà présent.\n"
   ]
  },
  {
   "cell_type": "code",
   "execution_count": null,
   "metadata": {
    "collapsed": true
   },
   "outputs": [],
   "source": [
    "5 + 7"
   ]
  },
  {
   "cell_type": "markdown",
   "metadata": {},
   "source": [
    "Testez le parenthésage:"
   ]
  },
  {
   "cell_type": "code",
   "execution_count": null,
   "metadata": {
    "collapsed": true
   },
   "outputs": [],
   "source": [
    "7 + 4*3"
   ]
  },
  {
   "cell_type": "code",
   "execution_count": null,
   "metadata": {
    "collapsed": true
   },
   "outputs": [],
   "source": [
    "(7+4)*5"
   ]
  },
  {
   "cell_type": "markdown",
   "metadata": {},
   "source": [
    "Enfin, testez les opérateurs suivants `//  %  **`.\n",
    "Complétez votre cours (§ VI.1) en précisant leur effet."
   ]
  },
  {
   "cell_type": "code",
   "execution_count": null,
   "metadata": {
    "collapsed": true
   },
   "outputs": [],
   "source": []
  },
  {
   "cell_type": "markdown",
   "metadata": {},
   "source": [
    "## Variables et affectations - entrées-sorties\n",
    "\n",
    "Une variable est une mémoire qui permet de stocker une valeur numérique, du texte, une liste de courses,...\n",
    "On affecte une valeur à une variable avec  `=` .\n",
    "On affiche une variable avec l'instruction `print(variable)`: c'est une instruction de sortie (output)."
   ]
  },
  {
   "cell_type": "code",
   "execution_count": null,
   "metadata": {
    "collapsed": true
   },
   "outputs": [],
   "source": [
    "a = 2\n",
    "print(a)"
   ]
  },
  {
   "cell_type": "markdown",
   "metadata": {},
   "source": [
    "__Attention : Le symbole \"=\" n'a pas du tout la même signification qu'en mathématiques !__\n",
    "\n",
    "L'équation : $$a = a + 1 $$ n'a pas de solution en mathématiques, par contre ceci fonctionne :"
   ]
  },
  {
   "cell_type": "code",
   "execution_count": null,
   "metadata": {
    "collapsed": true
   },
   "outputs": [],
   "source": [
    "a = 5\n",
    "a = a + 1\n",
    "print(a)"
   ]
  },
  {
   "cell_type": "markdown",
   "metadata": {},
   "source": [
    "On peut affecter une _expression_ à une variable:"
   ]
  },
  {
   "cell_type": "code",
   "execution_count": null,
   "metadata": {
    "collapsed": true
   },
   "outputs": [],
   "source": [
    "b = 5\n",
    "c = 2*a + b**2\n",
    "print(c)"
   ]
  },
  {
   "cell_type": "markdown",
   "metadata": {},
   "source": [
    "Une instruction d'entrée importante est input(). Ci-dessous, on affecte l'entrée à la variable _prenom_.\n",
    "\n",
    "Remarque : il n'y a pas d'accent à la variable _prenom_, c'est volontaire : cf. le cours photocopié."
   ]
  },
  {
   "cell_type": "code",
   "execution_count": null,
   "metadata": {
    "collapsed": true
   },
   "outputs": [],
   "source": [
    "prenom = input(\"Donnez votre prénom : \")\n",
    "print(\"bonjour\",prenom)"
   ]
  },
  {
   "cell_type": "markdown",
   "metadata": {},
   "source": [
    "Qu'est censé faire le code suivant ? Testez-le, et concluez :"
   ]
  },
  {
   "cell_type": "code",
   "execution_count": null,
   "metadata": {
    "collapsed": true
   },
   "outputs": [],
   "source": [
    "a = input(\"entrez un nombre :\")\n",
    "print(3*a)"
   ]
  },
  {
   "cell_type": "markdown",
   "metadata": {},
   "source": [
    "## Typage des données\n",
    "\n",
    "Comme vous venez de le voir, le résultat du programme précédent n'est pas celui attendu. Les données et les variables sont __typées__ dans un langage de programmation, c'est-à-dire que l'on doit préciser si ce sont des nombres, du texte, etc... En python le typage est très souple, ce qui facilité l'écriture des programmes lorsque l'on débute. Néanmoins, il est parfois nécessaire de le préciser. L'instruction `type(variable)` permet de savoir quel est le type d'une variable. Testez et concluez (vous pouvez écrire vos idées après \"commentaires\" avec un double clic sur la ligne \"commentaires\", puis ctrl + entrée pour avoir le format texte) :"
   ]
  },
  {
   "cell_type": "code",
   "execution_count": null,
   "metadata": {
    "collapsed": true
   },
   "outputs": [],
   "source": [
    "a = 3\n",
    "type(a)"
   ]
  },
  {
   "cell_type": "code",
   "execution_count": null,
   "metadata": {
    "collapsed": true
   },
   "outputs": [],
   "source": [
    "a = input(\"entrez un nombre :\")\n",
    "type(a)"
   ]
  },
  {
   "cell_type": "markdown",
   "metadata": {},
   "source": [
    "Commentaires :"
   ]
  },
  {
   "cell_type": "markdown",
   "metadata": {},
   "source": [
    "Les types principaux que nous utiliserons cette année sont:\n",
    "* les entiers : type `int`;\n",
    "* les flottants (approximation des nombres réels par des décimaux): type `float`;\n",
    "* les caractères (lettres) : type `char`;\n",
    "* les booléens (vrai ou faux) : type `bool`;\n",
    "* les listes (ou tableaux) : type `list`;\n",
    "* les chaines de caractères (mots, phrases), qui sont des listes de lettres en fait : type `str`. Elles sont entre guillemets simples `'chaine'` ou doubles `\"chaine\".\n",
    "\n",
    "On peut forcer le type de certaines variables en rajoutant le type souhaité devant la variable.  \n",
    "* Comparez le code ci-dessous avec les précédents ;\n",
    "* puis enlevez le `int` devant le input et testez à nouveau; enfin concluez."
   ]
  },
  {
   "cell_type": "code",
   "execution_count": null,
   "metadata": {
    "collapsed": true
   },
   "outputs": [],
   "source": [
    "a = int(input(\"entrez un nombre :\"))\n",
    "print(type(a))\n",
    "print(3*a)"
   ]
  },
  {
   "cell_type": "markdown",
   "metadata": {},
   "source": [
    "On utilise la notation anglo-saxonne avec . pour la virgule, et e pour \"10 puissance\". Par exemple 1.5e4 = 15000\n",
    "\n",
    "Des phénomènes étranges peuvent se passer avec les flottants... tester 0.1 + 0.1 puis 0.1 + 0.1 + 0.1 etc.. Conclure."
   ]
  },
  {
   "cell_type": "code",
   "execution_count": null,
   "metadata": {
    "collapsed": true
   },
   "outputs": [],
   "source": [
    "0.1+0.1"
   ]
  },
  {
   "cell_type": "markdown",
   "metadata": {},
   "source": [
    "Commentaires : "
   ]
  },
  {
   "cell_type": "markdown",
   "metadata": {},
   "source": [
    "Remarque : le type complexe existe aussi, on utilise j à la place de i."
   ]
  },
  {
   "cell_type": "code",
   "execution_count": null,
   "metadata": {
    "collapsed": true
   },
   "outputs": [],
   "source": [
    "type(1+2j)"
   ]
  },
  {
   "cell_type": "markdown",
   "metadata": {},
   "source": [
    "Premier programme\n",
    "-----\n",
    "Ecrire un programme qui demande votre âge en année et le convertit en nombre de jours.\n",
    "\n",
    "En exemple ci dessous, les premières lignes avec des commentaires. Il ne vous reste qu'à compléter !"
   ]
  },
  {
   "cell_type": "code",
   "execution_count": null,
   "metadata": {
    "collapsed": true
   },
   "outputs": [],
   "source": [
    "\"\"\"\n",
    "TD1_ex1_fait_par_Super(wo)man\n",
    "Programme permattant de convertir un nombre d'annees en nombre de jours\n",
    "\"\"\"\n",
    "prenom = input(\"Donnez votre prenom : \")    # un petit accueil sympathique\n",
    "print(\"bonjour\",prenom)"
   ]
  },
  {
   "cell_type": "markdown",
   "metadata": {},
   "source": [
    "<hr style=\"color:black; height:1px\" />\n",
    "<div style=\"float:left;margin:0 10px 10px 0\" markdown=\"1\">\n",
    "[![Licence CC BY NC SA](https://licensebuttons.net/l/by-nc-sa/3.0/88x31.png \"licence Creative Commons CC BY SA\")](http://creativecommons.org/licenses/by-nc-sa/3.0/fr/)</div>\n",
    "[**Frederic Mandon**](mailto:frederic.mandon@ac-montpellier.fr), Lycée Jean Jaurès - Saint Clément de Rivière - France (2015-2017)"
   ]
  }
 ],
 "metadata": {
  "kernelspec": {
   "display_name": "Python 3",
   "language": "python",
   "name": "python3"
  },
  "language_info": {
   "codemirror_mode": {
    "name": "ipython",
    "version": 3
   },
   "file_extension": ".py",
   "mimetype": "text/x-python",
   "name": "python",
   "nbconvert_exporter": "python",
   "pygments_lexer": "ipython3",
   "version": "3.6.1"
  }
 },
 "nbformat": 4,
 "nbformat_minor": 1
}
