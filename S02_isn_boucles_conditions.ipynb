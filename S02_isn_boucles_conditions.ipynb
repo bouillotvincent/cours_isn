{
 "cells": [
  {
   "cell_type": "markdown",
   "metadata": {},
   "source": [
    "[Commentaire 1]: <> (Cours sous licence CC SA BY NC, Vincent Bouillot 2018  - Inspiré de Frédéric Mandon)\n",
    "\n",
    "# Boucles et conditions\n",
    "\n",
    "_Faites une copie avec la commande ci dessus \"File>Make a Copy...\", et renommez la en cliquant sur le titre (à côté de jupyter  TD2...), par exemple en rajoutant votre nom._\n",
    "\n",
    "## Le type booléen\n",
    "\n",
    "Un booléen est une variable qui prend uniquement deux valeurs, vrai ou faux. En ce sens c'est ce qui est le plus proche de la machine. En effet, comme on le verra dans le cours, un ordinateur ne comprend que deux états : le courant passe ou le courant ne passe pas.\n",
    "Les variables booléennes sont utilisées pour les tests ou les boucles.\n",
    "Essayer les expressions suivantes ; pour mieux comprendre et assimiler voir le cours sur les opérateurs de comparaison, ainsi que sur les opérateurs logiques (cours IV 4)."
   ]
  },
  {
   "cell_type": "code",
   "execution_count": null,
   "metadata": {
    "collapsed": true
   },
   "outputs": [],
   "source": [
    "3 > 5"
   ]
  },
  {
   "cell_type": "code",
   "execution_count": null,
   "metadata": {
    "collapsed": true
   },
   "outputs": [],
   "source": [
    "a = 4\n",
    "a >= 4"
   ]
  },
  {
   "cell_type": "code",
   "execution_count": null,
   "metadata": {
    "collapsed": true
   },
   "outputs": [],
   "source": [
    "a == 4"
   ]
  },
  {
   "cell_type": "code",
   "execution_count": null,
   "metadata": {
    "collapsed": true
   },
   "outputs": [],
   "source": [
    "a != 4"
   ]
  },
  {
   "cell_type": "code",
   "execution_count": null,
   "metadata": {
    "collapsed": true
   },
   "outputs": [],
   "source": [
    "a == 4 and 3 > 5"
   ]
  },
  {
   "cell_type": "code",
   "execution_count": null,
   "metadata": {
    "collapsed": true
   },
   "outputs": [],
   "source": [
    "a == 4 or 3 > 5"
   ]
  },
  {
   "cell_type": "code",
   "execution_count": null,
   "metadata": {
    "collapsed": true
   },
   "outputs": [],
   "source": [
    "a == 4 or 3 < 5"
   ]
  },
  {
   "cell_type": "code",
   "execution_count": null,
   "metadata": {
    "collapsed": true
   },
   "outputs": [],
   "source": [
    "not(a==4)"
   ]
  },
  {
   "cell_type": "markdown",
   "metadata": {},
   "source": [
    "On peut écrire des expressions plus complexes avec les booléens. Ce n'est pas forcément recommandé, ni interdit non plus. Si vous faites comme ci-dessous, veillez à ne pas trop perdre en lisibilté et en clarté du code."
   ]
  },
  {
   "cell_type": "code",
   "execution_count": null,
   "metadata": {
    "collapsed": true
   },
   "outputs": [],
   "source": [
    "a =int(input(\"Donnez un nombre\"))\n",
    "b = (a > 50)    # les parenthèses ne sont pas obligatoires mais permettent plus de lisibilité\n",
    "print(\"b vaut\",b,\", et est de type \",type(b))\n",
    "c = (a == 3 or not(b) or not(a != 25) )   # si vous reussissez a deviner la valeur de c, bravo ! \n",
    "                                          # ici c'est illisible..."
   ]
  },
  {
   "cell_type": "markdown",
   "metadata": {},
   "source": [
    "Instructions conditionelles\n",
    "--------\n",
    "Lire le cours (VI 5)\n",
    "\n",
    "Que fait le programme ci-dessous ? Expliquer son fonctionnement (vous pouvez écrire vos idées après \"commentaires\" avec un double clic sur la ligne \"commentaires\", puis ctrl + entrée pour avoir le format texte)"
   ]
  },
  {
   "cell_type": "code",
   "execution_count": null,
   "metadata": {
    "collapsed": true
   },
   "outputs": [],
   "source": [
    "a = float(input(\"rentrez un nombre quelconque :\"))\n",
    "if a//2 == a/2:\n",
    "    print(a,\" est un entier pair\")\n",
    "elif a//1 == a:\n",
    "    print(a,\" est un entier impair\")\n",
    "else:\n",
    "    print(a,\" n'est pas un entier\")\n"
   ]
  },
  {
   "cell_type": "markdown",
   "metadata": {},
   "source": [
    "Commentaires:"
   ]
  },
  {
   "cell_type": "markdown",
   "metadata": {},
   "source": [
    "### Exercice\n",
    "Ecrire un programme qui demande votre âge, et qui dit:\n",
    "\n",
    "* que vous n'avez pas le droit de travailler si vous avez moins de 16 ans  \n",
    "* que vous pouvez travailler si vous avez entre 16 et 67 ans  \n",
    "* que vous êtes à la retraite si vous avez plus de 67 ans"
   ]
  },
  {
   "cell_type": "code",
   "execution_count": null,
   "metadata": {
    "collapsed": true
   },
   "outputs": [],
   "source": []
  },
  {
   "cell_type": "markdown",
   "metadata": {},
   "source": [
    "##Instruction itérative \"tant que\"\n",
    "\n",
    "Faire tourner le programme ci-dessous. Comprendre son fonctionnement.\n",
    "\n",
    "Le changer de manière à ce qu'il compte de 10 jusqu'à 0 inclus. Vous pouvez comparer la solution trouvée avec celles de vos voisins; en effet il y a de nombreuses méthodes."
   ]
  },
  {
   "cell_type": "code",
   "execution_count": null,
   "metadata": {
    "collapsed": true
   },
   "outputs": [],
   "source": [
    "n = 10\n",
    "while n > 0:\n",
    "    print(n)\n",
    "    n = n - 2"
   ]
  },
  {
   "cell_type": "markdown",
   "metadata": {},
   "source": [
    "Exercice sur un algorithme classique de mathématiques, à connaitre pour le bac.  \n",
    "On donne la suite définie par \n",
    "$ u_0 = 5$ et $\n",
    "u_{n+1} = 2u_n - 1\n",
    "$\n",
    ". Trouver le plus petit entier _n_ tel que $u_n$ > 1000000.  \n",
    "L'algorithme est le suivant :  \n",
    "\n",
    "__Début__  \n",
    ">_u_ $\\leftarrow$ 5  \n",
    ">_n_ $\\leftarrow$ 0  \n",
    ">__Tant que__ _u_ ≤ 1000000 :  \n",
    ">>_u_ $\\leftarrow$ 2$\\times$_u_ - 1  \n",
    ">>_n_ $\\leftarrow$ _n_ + 1  \n",
    "\n",
    ">__Fin tant que__  \n",
    ">__afficher__ _n_  \n",
    "\n",
    "__Fin__\n",
    "\n",
    "Programmer cet algorithme, on utilisera la syntaxe de l'exemple ci-dessus (cours très succint IV 6)."
   ]
  },
  {
   "cell_type": "code",
   "execution_count": null,
   "metadata": {
    "collapsed": true
   },
   "outputs": [],
   "source": []
  },
  {
   "cell_type": "markdown",
   "metadata": {},
   "source": [
    "## L'instruction \"range\" : l'outil de base pour l'instruction itérative \"pour\"\n",
    "\n",
    "L'instruction \"range\" permet de parcourir un ensemble de valeurs. Tester sur les exemples ci dessous.\n",
    "Vous pouvez mettre des commentaires dans la cellule du même nom"
   ]
  },
  {
   "cell_type": "code",
   "execution_count": null,
   "metadata": {
    "collapsed": true
   },
   "outputs": [],
   "source": [
    "for i in range(10):\n",
    "    print(i)"
   ]
  },
  {
   "cell_type": "code",
   "execution_count": null,
   "metadata": {
    "collapsed": true
   },
   "outputs": [],
   "source": [
    "for i in range(0,10,1):\n",
    "    print(i)"
   ]
  },
  {
   "cell_type": "markdown",
   "metadata": {},
   "source": [
    "Commentaires : "
   ]
  },
  {
   "cell_type": "markdown",
   "metadata": {},
   "source": [
    "Exercice : modifier la deuxième boucle ci-dessus de manière à:\n",
    "1. compter jusqu'à 10 inclus;\n",
    "2. compter jusqu'à 10 inclus, de 2 en 2;\n",
    "3. compter de 10 à 0 dans l'ordre décroissant.\n"
   ]
  },
  {
   "cell_type": "markdown",
   "metadata": {},
   "source": [
    "## Exercice avec \"pour\"\n",
    "-----------\n",
    "Exemple sur un autre algorithme classique de mathématiques demandé au bac.  \n",
    "On donne la suite définie par \n",
    "$ u_0 = 5$ et $\n",
    "u_{n+1} = 2u_n - 1\n",
    "$\n",
    ". Calculer $u_{25000}$. Recopier le résultat sur votre copie.  \n",
    "L'algorithme est le suivant :  \n",
    "\n",
    "__Début__  \n",
    ">_u_ $\\leftarrow$ 5    \n",
    ">__Pour__ _n_ de 0 jusqu'à 25000 :  \n",
    ">>_u_ $\\leftarrow$ 2$\\times$_u_ - 1  \n",
    "\n",
    ">__Fin Pour__  \n",
    ">__afficher__ _u_  \n",
    ">&nbsp;&nbsp;&nbsp;&nbsp;_cela peut être une bonne idée d'afficher n aussi pour vérifier que l'on a bien ce que l'on veut_  \n",
    "\n",
    "__Fin__\n",
    "\n",
    "Programmer cet algorithme, on utilisera la syntaxe de l'exemple ci-dessus (cours très succint IV 6)."
   ]
  },
  {
   "cell_type": "code",
   "execution_count": null,
   "metadata": {
    "collapsed": true
   },
   "outputs": [],
   "source": []
  },
  {
   "cell_type": "markdown",
   "metadata": {},
   "source": [
    "#### Une remarque sur les booléens dans les itératives et conditionnelles.\n",
    "Les instructions itératives et conditionnelles évaluant des booléens, on ne code pas ceci, qui est un pléonasme:    \n",
    ">`bool = True\n",
    "if bool == True:\n",
    "    ...`  \n",
    "    \n",
    "Mais cela:  \n",
    ">`bool = True\n",
    "if bool :\n",
    "    ...` "
   ]
  },
  {
   "cell_type": "markdown",
   "metadata": {},
   "source": [
    "<hr style=\"color:black; height:1px\" />\n",
    "<div style=\"float:left;margin:0 10px 10px 0\" markdown=\"1\">\n",
    "[![Licence CC BY NC SA](https://licensebuttons.net/l/by-nc-sa/3.0/88x31.png \"licence Creative Commons CC BY SA\")](http://creativecommons.org/licenses/by-nc-sa/3.0/fr/)</div>\n",
    "[**Vincent Bouillot**](mailto:vincent.bouillot@ac-lyon.fr), Lycée International Ferney-Voltaire - Ferney-Voltaire - France (2018)"
   ]
  }
 ],
 "metadata": {
  "kernelspec": {
   "display_name": "Python 3",
   "language": "python",
   "name": "python3"
  },
  "language_info": {
   "codemirror_mode": {
    "name": "ipython",
    "version": 3
   },
   "file_extension": ".py",
   "mimetype": "text/x-python",
   "name": "python",
   "nbconvert_exporter": "python",
   "pygments_lexer": "ipython3",
   "version": "3.6.5"
  }
 },
 "nbformat": 4,
 "nbformat_minor": 1
}
