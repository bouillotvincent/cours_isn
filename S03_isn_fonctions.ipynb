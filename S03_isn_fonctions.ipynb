{
 "cells": [
  {
   "cell_type": "markdown",
   "metadata": {},
   "source": [
    "[Commentaire 1]: <> (Cours sous licence CC SA BY NC, Vincent Bouillot 2018 - Inspiré par Frédéric Mandon) \n",
    "\n",
    "# Mot d'introduction : \n",
    "Il faut faire ce TD dans l'ordre des questions. Ne sautez pas de questions. Essayez de modifier les paramètres pour voir ce que cela change. \n",
    "\n",
    "En trois mots, __APPRENEZ À CODER__.\n",
    "\n",
    "\n",
    "\n",
    "# Lisibilité des programmes\n",
    "Comme d'habitude, __faites une copie avec la commande ci dessus \"File>Make a Copy...\"__, et renommez la en cliquant sur le titre (à côté de jupyter  TD3...), par exemple en rajoutant votre nom.\n",
    "\n",
    "## Les bibliothèques\n",
    "\n",
    "Une bibliothèque est un ensemble de fonctions préprogrammées, que l'on incorpore en début de programme.  \n",
    "On utilisera principalement les bibliothèques :\n",
    " - mathématiques (math) et aléatoire (random) pour faire des mathématiques \n",
    " - tkinter et pygame pour utiliser des interfaces graphiques.\n",
    " \n",
    "Avant d'utiliser une bibliothèque, autre que celles précédemment citées, posez-vous les questions suivantes:\n",
    "* en ai-je besoin ? (9 fois sur 10 la réponse est non);\n",
    "* cela va-t-il me simplifier le travail  ? (la réponse est souvent non, ça risque de devenir bien plus compliqué car je ne connais pas la libliothèque... mais parfois oui, ça sera beaucoup plus simple...);\n",
    "* la bibliothèque est-elle dépréciée ? (c'est à dire \"périmée mais quand même vaguement comestible à vos risques et périls\" i.e. plus mise à jour par exemple).  \n",
    "\n",
    "Jusqu'à ce que vous ayez entamé vos projets, vous perdrez du temps à chercher des solutions toutes faites sur le web, et vous apprenez moins bien : je vous déconseille fortement d'utiliser le web comme autre chose qu'une source de documentation. Il est vrai que ça rassure et que ça semble plus simple de chercher sur internet, mais au début c'est une perte de temps pour ce qui est de la programmation proprement dite."
   ]
  },
  {
   "cell_type": "code",
   "execution_count": null,
   "metadata": {
    "collapsed": true
   },
   "outputs": [],
   "source": [
    "from math import *    # importation de la librairie complète\n",
    "print(pi)\n",
    "print(cos(pi))\n",
    "print(sqrt(3))        # fonction racine carré (square root = sqrt)"
   ]
  },
  {
   "cell_type": "code",
   "execution_count": null,
   "metadata": {
    "collapsed": true
   },
   "outputs": [],
   "source": [
    "from random import *\n",
    "for i in range(10):\n",
    "    print(random())"
   ]
  },
  {
   "cell_type": "code",
   "execution_count": null,
   "metadata": {
    "collapsed": true
   },
   "outputs": [],
   "source": [
    "for i in range(10):\n",
    "    print(randint(3,8))"
   ]
  },
  {
   "cell_type": "code",
   "execution_count": null,
   "metadata": {
    "collapsed": true
   },
   "outputs": [],
   "source": [
    "for i in range(10):\n",
    "    print(randrange(3,8))"
   ]
  },
  {
   "cell_type": "code",
   "execution_count": null,
   "metadata": {
    "collapsed": true
   },
   "outputs": [],
   "source": [
    "for i in range(10):\n",
    "    print(randrange(3,8,2))"
   ]
  },
  {
   "cell_type": "markdown",
   "metadata": {},
   "source": [
    "__Commentaires à compléter :__\n",
    "* lorsqu'une bibliothèque a été importée, on n'a pas besoin de la réimporter (deux dernières boucles);\n",
    "* différence entre randint et randrange :"
   ]
  },
  {
   "cell_type": "markdown",
   "metadata": {},
   "source": [
    "## Les fonctions\n",
    "Vous l'avez sans doute déjà remarqué en codant pour le DM : un programme devient très vite illisible.\n",
    "\n",
    "Ainsi, on le découpe en modules, classes et fonctions. Lors de la réflexion préalable, __indispensable avant de programmer__, on écrit un algorithme sous forme de fonctions. On peut également, lors de cette réflexion, utiliser la syntaxe \"fonction magique\" : c'est un problème que l'on laisse en suspens pour le moment.  \n",
    "Exemple:  \n",
    "__Début__\n",
    ">__Fonction epd(a,b)__  \n",
    ">_\"résolution d'une équation du type ax + b = 0\"_\n",
    ">>_paramètres a et b deux nombres réels quelconques, a différent de 0_  \n",
    ">>_renvoie la solution de l'équation ax + b = 0_  \n",
    ">> renvoyer (-b/a)  \n",
    "\n",
    ">__Fonction eln(a,b)__  \n",
    ">_ fonction magique \"résolution d'une équation du type a*ln(x) = b\"_  \n",
    ">> _paramètres et retour : on verra ça plus tard_  \n",
    ">> renvoie (1) &nbsp;&nbsp;&nbsp;&nbsp;&nbsp;&nbsp;&nbsp;&nbsp;_valeur choisie au hasard_  \n",
    "\n",
    "> __Programme principal__  \n",
    "> _sol_ $\\leftarrow$ epd(3,2)  \n",
    "> Afficher \"la solution de l'équation 3x + 2 = 0\" vaut _sol_  \n",
    "> _sol_ $\\leftarrow$ eln(3,2)  \n",
    "> Afficher \"la solution de l'équation 3ln(x) = 2\" vaut _sol_  \n",
    "\n",
    "__Fin__  \n",
    "La traduction en Python :"
   ]
  },
  {
   "cell_type": "code",
   "execution_count": 3,
   "metadata": {},
   "outputs": [
    {
     "name": "stdout",
     "output_type": "stream",
     "text": [
      "la solution de l'equation 3x + 2 = 0 vaut -0.6366197723675814\n",
      "la solution de l'equation 3.ln(x) = 2 vaut 1\n"
     ]
    }
   ],
   "source": [
    "######################\n",
    "#\n",
    "# Bibliotheques\n",
    "#\n",
    "######################\n",
    "from math import *         # on en aura probablement besoin pour le logarithme neperien\n",
    "\n",
    "######################\n",
    "#\n",
    "# Fonctions\n",
    "#\n",
    "######################\n",
    "\n",
    "def epd(a,b):\n",
    "    \"\"\"\n",
    "    Resolution de l'equation ax + b = 0\n",
    "    @param : a reel non nul\n",
    "    @param : b reel\n",
    "    @return : c réel\n",
    "    \"\"\"\n",
    "    c = -b/a\n",
    "    return (c)\n",
    "\n",
    "def eln(a,b):\n",
    "    \"\"\"\n",
    "    Resolution de l'equation a.ln(x) = b a faire ulterieuremnt\n",
    "    @param : a ?\n",
    "    @param : b ?\n",
    "    @return : c ?\n",
    "    \"\"\"\n",
    "    return (1)\n",
    "\n",
    "######################\n",
    "#\n",
    "# Programme principal\n",
    "#\n",
    "######################\n",
    "sol = epd(pi,2)\n",
    "print(\"la solution de l'equation 3x + 2 = 0 vaut\",sol)\n",
    "#ci-dessous avec appel de la fonction dans le print\n",
    "print(\"la solution de l'equation 3.ln(x) = 2 vaut\",eln(3,2))"
   ]
  },
  {
   "cell_type": "markdown",
   "metadata": {},
   "source": [
    "Remarquez la précision des commentaires sur la nature des arguments : un utilisateur qui essaierait de résoudre $0\\cdot x + 2 = 0$ ne pourrait pas se plaindre de dysfonctionnement, puisqu'il est précisé qu'il ne faut pas le faire (a &ne; 0).   \n",
    "En théorie, on fait des fonctions distinctes pour les entrées, le calcul et les sorties. Le programme principal se contente d'organiser les différentes fonctions.\n",
    "#### Exercice 1 :\n",
    "Structurer en fonctions le programme de résolution de l'équation du second degré ci-dessous. Certaines erreurs d'écriture empêcheront votre code de s'exécuter. A vous de les déceler et de les corriger.\n",
    "\n",
    "Aucun calcul ne doit être fait dans le programme principal. Seules les entrées-sorties et l'organisation entre les différentes fonctions doivent figurer."
   ]
  },
  {
   "cell_type": "code",
   "execution_count": null,
   "metadata": {
    "collapsed": true
   },
   "outputs": [],
   "source": [
    "######################\n",
    "#\n",
    "# Bibliotheques\n",
    "#\n",
    "######################\n",
    "from math import *\n",
    "\n",
    "######################\n",
    "#\n",
    "# Fonctions\n",
    "#\n",
    "######################\n",
    "\n",
    "######################\n",
    "#\n",
    "# Programme principal\n",
    "#\n",
    "######################\n",
    "print(\"Résolution de l'équation du second degré ax^2 + bx + c = 0\")\n",
    "a = 0\n",
    "while a == 0:\n",
    "    a = int(input(\"donnez le coefficient a différent de 0:\"))\n",
    "b = input(\"donnez le coefficient b:\")\n",
    "c = int(input(\"donnez le coefficient c:\"))\n",
    "delta = b**2 - 4*a*c\n",
    "print(\"delta = \",delta)\n",
    "if delta < 0\n",
    "    print(\"l'équation n'a pas de solution réelle\")\n",
    "elif delta = 0:\n",
    "    print(\"l'équation admet une solution double : \",-b/(2*a))\n",
    "else :\n",
    "    print(\"l'équation admet deux solutions réelles : \",(-b + sqrt(delta))/(2*a),\" et \",(-b - sqrt(delta))/(2*a))"
   ]
  },
  {
   "cell_type": "markdown",
   "metadata": {},
   "source": [
    "<hr style=\"color:black; height:1px\" />\n",
    "<div style=\"float:left;margin:0 10px 10px 0\" markdown=\"1\">\n",
    "[![Licence CC BY NC SA](https://licensebuttons.net/l/by-nc-sa/3.0/88x31.png \"licence Creative Commons CC BY SA\")](http://creativecommons.org/licenses/by-nc-sa/3.0/fr/)</div>\n",
    "[**Vincent Bouillot**](mailto:vincent.bouillot@ac-lyon.fr), Lycée International Ferney-Voltaire - Ferney-Voltaire - France (2018) -- Inspiré du cours de Frédéric Mandon"
   ]
  }
 ],
 "metadata": {
  "kernelspec": {
   "display_name": "Python 3",
   "language": "python",
   "name": "python3"
  },
  "language_info": {
   "codemirror_mode": {
    "name": "ipython",
    "version": 3
   },
   "file_extension": ".py",
   "mimetype": "text/x-python",
   "name": "python",
   "nbconvert_exporter": "python",
   "pygments_lexer": "ipython3",
   "version": "3.6.5"
  }
 },
 "nbformat": 4,
 "nbformat_minor": 1
}
