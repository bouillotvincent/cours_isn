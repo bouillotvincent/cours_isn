{
 "cells": [
  {
   "cell_type": "markdown",
   "metadata": {},
   "source": [
    "[Commentaire 1]: <> (Cours sous licence CC SA BY NC, Vincent Bouillot 2018 - inspiré par le cours de Frédéric Mandon)\n",
    "\n",
    "# Les listes\n",
    "\n",
    "_Comme d'habitude, faites une copie avec la commande ci dessus \"File>Make a Copy...\", et renommez la en cliquant sur le titre (à côté de jupyter  TD2...), par exemple en rajoutant votre nom._\n",
    "\n",
    "Les listes sont utilisées en permanence en programmation. C'est un outil absolument fondamental, qui vous prendra un peu plus de temps à maitriser que les notions précédentes.  \n",
    "Une liste est une suite de valeurs, séparées par des variables, entre crochets. Les valeurs sont indicées de __0__ à _n_ - 1, où _n_ est la longueur de la liste. __Mathématiquement, c'est donc un ensemble ordonné de valeurs.__ On accède à un élément de la liste par son indice."
   ]
  },
  {
   "cell_type": "code",
   "execution_count": null,
   "metadata": {},
   "outputs": [],
   "source": [
    "liste = [42,23,'oui',\"la réponse d\"]\n",
    "for i in range(4):\n",
    "    print(\"l'élément d'indice\",i,\"vaut\",liste[i])"
   ]
  },
  {
   "cell_type": "markdown",
   "metadata": {},
   "source": [
    "__Remarque :__ Une __chaine de caractères__ est aussi considérée comme une liste comme indiqué par l'exemple ci-dessous."
   ]
  },
  {
   "cell_type": "code",
   "execution_count": null,
   "metadata": {},
   "outputs": [],
   "source": [
    "phrase = 'bonjour' \n",
    "for i in phrase:   # essayez de comprendre cette instruction.\n",
    "    print(i)"
   ]
  },
  {
   "cell_type": "markdown",
   "metadata": {},
   "source": [
    "__Exercice 1 :__ Comment feriez-vous pour afficher le i-ème élément d'une chaine de caractères _phrase_ entrée au clavier par l'utilisateur?"
   ]
  },
  {
   "cell_type": "code",
   "execution_count": null,
   "metadata": {},
   "outputs": [],
   "source": [
    "# Exercice 1. \n",
    "\n",
    "# affiche le i-ème élément d'une chaine de caractères\n"
   ]
  },
  {
   "cell_type": "markdown",
   "metadata": {},
   "source": [
    "Si l'on veut accéder à plusieurs éléments consécutifs de la liste, on utilise la syntaxe `[a:b]`, où a et b sont les bornes.  \n",
    "Testez les commandes ci-dessous. Commentez le programme afin de préciser l'effet de chaque instruction."
   ]
  },
  {
   "cell_type": "code",
   "execution_count": null,
   "metadata": {},
   "outputs": [],
   "source": [
    "liste = [i for i in range(0,11)]     # une manière simple de créer une liste\n",
    "print(liste[:])      # extraction\n",
    "print(liste[:3])     # extraction\n",
    "print(liste[3:])     # extraction\n",
    "print(liste[3:7])    # extraction"
   ]
  },
  {
   "cell_type": "markdown",
   "metadata": {},
   "source": [
    "## Copie de listes\n",
    "Tester le programme suivant. Le résultat obtenu vous paraît-il normal ?"
   ]
  },
  {
   "cell_type": "code",
   "execution_count": null,
   "metadata": {},
   "outputs": [],
   "source": [
    "a = [1,2,3,4]\n",
    "b = a        # on copie la liste a dans b\n",
    "print(\"la liste b est :\",b)\n",
    "a[0]=\"bonjour\"        # on modifie le premier element de a\n",
    "print(\"la liste b est :\",b)"
   ]
  },
  {
   "cell_type": "markdown",
   "metadata": {},
   "source": [
    "_Que s'est-il passé ?_  \n",
    "Une variable est stockée en mémoire à une adresse donnée (comme une adresse postale, sauf que dans un ordinateur c'est un en gros un numéro de ligne). Par exemple, on suppose que la variable `a` est un entier, et que la variable `b` est égale à `a`. Pour l'ordinateur, ça ne sera pas `a` mais \"adresse #FE240AC6\", ni `b` mais adresse #F000001. Si un programme veut changer la valeur de `a`, il va acceder à l'adresse #FE240AC6 et en modifier le contenu. L'adresse #F000001, soit la variable `b`, sera inchangée.  \n",
    "Si maintenant la variable `a` est une liste, c'est une suite de valeurs stockée à partir d'une adresse comme ci-dessus, toujours par exemple #FE240AC6. L'instruction `b = a` ne va pas copier la liste à partir d'une autre adresse, mais signifie que `b` pointe aussi sur #FE240AC6. Toute modification de la liste `a` entrainera aussi celle de la liste `b` ! Le commentaire dans le programme précédent `# on copie la liste a dans b` peut être modifié par `# on copie l'adresse de la liste a dans b`.   \n",
    "On utilise les méthodes que l'on a vu ci-dessus, d'extraction d'éléments d'une liste, pour les copier :"
   ]
  },
  {
   "cell_type": "code",
   "execution_count": null,
   "metadata": {},
   "outputs": [],
   "source": [
    "a = [1,2,3,4]\n",
    "b = a[:]        # on copie la liste a dans b\n",
    "print(\"la liste b est :\",b)\n",
    "a[0]=\"bonjour\"        # on modifie le premier element de a\n",
    "print(\"la liste b est :\",b)\n",
    "print(\"la liste a est :\",a)"
   ]
  },
  {
   "cell_type": "markdown",
   "metadata": {},
   "source": [
    "## Création de listes et de tableaux\n",
    "La méthode vu ci-dessus : `liste = [i for i in range(0,11)]` est très pratique et rapide pour créer rapidement une liste de valeurs suivant une suite arithmétique (l'aviez-vous realisé ?).\n",
    "\n",
    "\n",
    "__Exercice 2:__ Créer avec cette méthode la liste des multiples de 3 compris entre -6 et 24, vérifier avec un affichage."
   ]
  },
  {
   "cell_type": "code",
   "execution_count": null,
   "metadata": {},
   "outputs": [],
   "source": []
  },
  {
   "cell_type": "markdown",
   "metadata": {},
   "source": [
    "Elle n'est cependant pas suffisante pour des listes plus compliquées. Le programme suivant, à conserver dans vos archives, donne une méthode pour créer une liste de nombres aléatoires. Tester :"
   ]
  },
  {
   "cell_type": "code",
   "execution_count": null,
   "metadata": {},
   "outputs": [],
   "source": [
    "from random import *\n",
    "\n",
    "\"\"\"\n",
    "Fonction de création d'un tableau de nombres entier aléatoires\n",
    "\n",
    "@param : un entier positif ou nul n\n",
    "@result : un tableau de longueur n, rempli aléatoirement d'entiers compris entre 1 et 50\n",
    "\"\"\"\n",
    "\n",
    "def tableauAlea(n):\n",
    "\n",
    "    tab = [0]*n        # creation d'un tableau vide de longueur n\n",
    "    for i in range(len(tab)):         # remplissage du tableau par des valeurs      \n",
    "        tab[i] = randrange(1,50)      # aléatoires entre 1 et 50\n",
    "    return(tab)\n",
    "\n",
    "print(tableauAlea(10))  # exemples\n",
    "print(tableauAlea(0))"
   ]
  },
  {
   "cell_type": "markdown",
   "metadata": {},
   "source": [
    "Un tableau est une liste de listes (de listes de listes... etc, autant que l'on veut). Par abus de langage, on dit aussi parfois tableau pour liste. Une matrice est un tableau de listes de réels (ou de complexes), toutes les listes ayant la même longeur. Tester :"
   ]
  },
  {
   "cell_type": "code",
   "execution_count": null,
   "metadata": {},
   "outputs": [],
   "source": [
    "tab = [[1,2,3],[4,5,6],[7,8,9],[10,11,12]]\n",
    "print(\"un affichage pas très beau :\")\n",
    "print(tab)\n",
    "print(\"un affichage plus lisible, pas parfait cependant :\")\n",
    "for i in range(4):\n",
    "    print (tab[i])"
   ]
  },
  {
   "cell_type": "markdown",
   "metadata": {},
   "source": [
    "## Fonctions et méthodes sur les listes\n",
    "### Longueur et ajout d'un élément.\n",
    "La fonction `len(liste)` donne le nombre d'éléments d'une liste.  \n",
    "La méthode `liste.append(element)` rajoute un élément en fin de liste.\n",
    "_Remarque sur le vocabulaire_ :  \n",
    "* `len()` est une __fonction__, on doit donc affecter le résultat dans une variable : `n = len(liste)`;\n",
    "* `.append()` est une __méthode__. Elle modifie l'__objet__ donné avant le point. Il n'y a pas d'affectation à faire, l'instruction s'utilise seule.  \n",
    "Exemples:"
   ]
  },
  {
   "cell_type": "code",
   "execution_count": null,
   "metadata": {},
   "outputs": [],
   "source": [
    "tab = [[1,2,3],[4,5,6],[7,8,9],[10,11,12]]\n",
    "print(\"la longueur de tab est :\",len(tab))\n",
    "print(\"la longeur de tab[0] est :\",len(tab[0]))\n",
    "tab.append(\"bonjour\")\n",
    "print(tab)"
   ]
  },
  {
   "cell_type": "markdown",
   "metadata": {},
   "source": [
    "La méthode `append` permet de créer des listes, notamment __sans en connaitre la longueur à l'avance__. Tester:"
   ]
  },
  {
   "cell_type": "code",
   "execution_count": null,
   "metadata": {},
   "outputs": [],
   "source": [
    "liste = []      # creation d'une liste vide\n",
    "continuer = True\n",
    "while continuer:\n",
    "    elt = int(input(\"rentrer un entier non nul (0 pour arreter) :\"))\n",
    "    if elt == 0:\n",
    "        continuer = False\n",
    "    else:\n",
    "        liste.append(elt) \n",
    "print(liste)"
   ]
  },
  {
   "cell_type": "markdown",
   "metadata": {},
   "source": [
    "__Exercice 3:__\n",
    "En se basant sur l'exemple précédent, et sur la fonction de création d'une liste d'entier aléatoires, écrire une fonction qui crée une matrice de _n_ lignes de _p_ nombres aléatoires entre 12 et 45. _n_ et _p_ seront passés en paramètres."
   ]
  },
  {
   "cell_type": "code",
   "execution_count": null,
   "metadata": {},
   "outputs": [],
   "source": []
  },
  {
   "cell_type": "markdown",
   "metadata": {},
   "source": [
    "### D'autres méthodes utiles.\n",
    "\n",
    "Je vous conseille fortement de consulter la page https://docs.python.org/fr/3.5/tutorial/datastructures.html qui détaille toutes les structures et méthodes existantes. __https://docs.python.org est d'ailleurs une excellente source de documentation si vous cherchez à savoir comment fonctionne une méthode ou une structure de données.__\n",
    "\n",
    "De nombreuses méthodes existent sur les listes, citons par exemple:\n",
    "* `liste.sort()` trie la liste dans l'ordre croissant. Les éléments doivent être de nature comparable\n",
    "* `liste.reverse()` : inverse l’ordre des éléments.\n",
    "* `liste.index(élément_de_liste)` : renvoie l’indice dans la liste d’un élément donné.\n",
    "* `liste.remove(élément_de_liste)` : enlève un élément de la liste. Si l'élément est présent plusieurs fois, seule la première occurence sera retirée.  \n",
    "\n",
    "__Remarque__ : dans la majeure partie des exercices en début d'année, l'utilisation de ces méthodes est interdite ; en effet elles suppriment la visée pédagogique desdits exercices."
   ]
  },
  {
   "cell_type": "markdown",
   "metadata": {},
   "source": [
    "## Application aux chaines de caractères\n",
    "Une chaine de caractères est une liste.  \n",
    "\n",
    "__Exercice 4 :__ Pour une chaine de caractères (d'au moins 15 caractères) que l'utilisateur entrera au clavier, créez quatre fonctions qui afficheront le résultat:\n",
    "1. `first_letter(str *phrase)` Extraire la première lettre\n",
    "2. `ntom_letter(str *phrase, int n, int m)` Extraire la sous-chaine allant de la n<sup>ème</sup> (par exemple 3<sup>ème</sup>) à la m<sup>ème</sup> (par exemple 10<sup>ème</sup>) lettre.\n",
    "3. `last_letter(str *phrase)` Extraire la dernière lettre. L'instruction doit fonctionner __quelque soit la longueur de la chaine__, sans avoir à changer le code.\n",
    "4. `ntoend_letter(str *phrase, int n)` Extraire les n dernières lettres"
   ]
  },
  {
   "cell_type": "code",
   "execution_count": null,
   "metadata": {},
   "outputs": [],
   "source": []
  },
  {
   "cell_type": "markdown",
   "metadata": {},
   "source": [
    "<hr style=\"color:black; height:1px\" />\n",
    "<div style=\"float:left;margin:0 10px 10px 0\" markdown=\"1\">\n",
    "[![Licence CC BY NC SA](https://licensebuttons.net/l/by-nc-sa/3.0/88x31.png \"licence Creative Commons CC BY SA\")](http://creativecommons.org/licenses/by-nc-sa/3.0/fr/)</div>\n",
    "[**Vincent Bouillot**](mailto:vincent.bouillot@ac-lyon.fr), Lycée International Ferney-Voltaire - Ferney-Voltaire - France (2018) - Cours inspiré de Frédéric Mandon"
   ]
  }
 ],
 "metadata": {
  "kernelspec": {
   "display_name": "Python 3",
   "language": "python",
   "name": "python3"
  },
  "language_info": {
   "codemirror_mode": {
    "name": "ipython",
    "version": 3
   },
   "file_extension": ".py",
   "mimetype": "text/x-python",
   "name": "python",
   "nbconvert_exporter": "python",
   "pygments_lexer": "ipython3",
   "version": "3.6.5"
  }
 },
 "nbformat": 4,
 "nbformat_minor": 1
}
